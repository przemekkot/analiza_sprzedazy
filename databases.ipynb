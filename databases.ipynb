{
 "metadata": {
  "language_info": {
   "codemirror_mode": {
    "name": "ipython",
    "version": 3
   },
   "file_extension": ".py",
   "mimetype": "text/x-python",
   "name": "python",
   "nbconvert_exporter": "python",
   "pygments_lexer": "ipython3",
   "version": "3.8.3-final"
  },
  "orig_nbformat": 2,
  "kernelspec": {
   "name": "python3",
   "display_name": "Python 3"
  }
 },
 "nbformat": 4,
 "nbformat_minor": 2,
 "cells": [
  {
   "cell_type": "code",
   "execution_count": 2,
   "metadata": {},
   "outputs": [
    {
     "output_type": "execute_result",
     "data": {
      "text/plain": [
       "   prod_cat_code  prod_cat  prod_sub_cat_code prod_subcat\n",
       "0              1  Clothing                  4        Mens\n",
       "1              1  Clothing                  1       Women\n",
       "2              1  Clothing                  3        Kids\n",
       "3              2  Footwear                  1        Mens\n",
       "4              2  Footwear                  3       Women"
      ],
      "text/html": "<div>\n<style scoped>\n    .dataframe tbody tr th:only-of-type {\n        vertical-align: middle;\n    }\n\n    .dataframe tbody tr th {\n        vertical-align: top;\n    }\n\n    .dataframe thead th {\n        text-align: right;\n    }\n</style>\n<table border=\"1\" class=\"dataframe\">\n  <thead>\n    <tr style=\"text-align: right;\">\n      <th></th>\n      <th>prod_cat_code</th>\n      <th>prod_cat</th>\n      <th>prod_sub_cat_code</th>\n      <th>prod_subcat</th>\n    </tr>\n  </thead>\n  <tbody>\n    <tr>\n      <th>0</th>\n      <td>1</td>\n      <td>Clothing</td>\n      <td>4</td>\n      <td>Mens</td>\n    </tr>\n    <tr>\n      <th>1</th>\n      <td>1</td>\n      <td>Clothing</td>\n      <td>1</td>\n      <td>Women</td>\n    </tr>\n    <tr>\n      <th>2</th>\n      <td>1</td>\n      <td>Clothing</td>\n      <td>3</td>\n      <td>Kids</td>\n    </tr>\n    <tr>\n      <th>3</th>\n      <td>2</td>\n      <td>Footwear</td>\n      <td>1</td>\n      <td>Mens</td>\n    </tr>\n    <tr>\n      <th>4</th>\n      <td>2</td>\n      <td>Footwear</td>\n      <td>3</td>\n      <td>Women</td>\n    </tr>\n  </tbody>\n</table>\n</div>"
     },
     "metadata": {},
     "execution_count": 2
    }
   ],
   "source": [
    "import pandas as pd\n",
    "prod_cat_info = pd.read_csv('db\\prod_cat_info.csv')\n",
    "prod_cat_info.head()\n"
   ]
  },
  {
   "cell_type": "code",
   "execution_count": 4,
   "metadata": {},
   "outputs": [
    {
     "output_type": "execute_result",
     "data": {
      "text/plain": [
       "   country\n",
       "1   Poland\n",
       "2  Germany\n",
       "3   France\n",
       "4    Spain\n",
       "5    Italy"
      ],
      "text/html": "<div>\n<style scoped>\n    .dataframe tbody tr th:only-of-type {\n        vertical-align: middle;\n    }\n\n    .dataframe tbody tr th {\n        vertical-align: top;\n    }\n\n    .dataframe thead th {\n        text-align: right;\n    }\n</style>\n<table border=\"1\" class=\"dataframe\">\n  <thead>\n    <tr style=\"text-align: right;\">\n      <th></th>\n      <th>country</th>\n    </tr>\n  </thead>\n  <tbody>\n    <tr>\n      <th>1</th>\n      <td>Poland</td>\n    </tr>\n    <tr>\n      <th>2</th>\n      <td>Germany</td>\n    </tr>\n    <tr>\n      <th>3</th>\n      <td>France</td>\n    </tr>\n    <tr>\n      <th>4</th>\n      <td>Spain</td>\n    </tr>\n    <tr>\n      <th>5</th>\n      <td>Italy</td>\n    </tr>\n  </tbody>\n</table>\n</div>"
     },
     "metadata": {},
     "execution_count": 4
    }
   ],
   "source": [
    "country_codes = pd.read_csv('db\\country_codes.csv', index_col=0)\n",
    "country_codes.head()"
   ]
  },
  {
   "cell_type": "code",
   "execution_count": 6,
   "metadata": {},
   "outputs": [
    {
     "output_type": "execute_result",
     "data": {
      "text/plain": [
       "   customer_Id         DOB Gender  country_code\n",
       "0       268408  02-01-1970      M           4.0\n",
       "1       269696  07-01-1970      F           8.0\n",
       "2       268159  08-01-1970      F           8.0\n",
       "3       270181  10-01-1970      F           2.0\n",
       "4       268073  11-01-1970      M           1.0"
      ],
      "text/html": "<div>\n<style scoped>\n    .dataframe tbody tr th:only-of-type {\n        vertical-align: middle;\n    }\n\n    .dataframe tbody tr th {\n        vertical-align: top;\n    }\n\n    .dataframe thead th {\n        text-align: right;\n    }\n</style>\n<table border=\"1\" class=\"dataframe\">\n  <thead>\n    <tr style=\"text-align: right;\">\n      <th></th>\n      <th>customer_Id</th>\n      <th>DOB</th>\n      <th>Gender</th>\n      <th>country_code</th>\n    </tr>\n  </thead>\n  <tbody>\n    <tr>\n      <th>0</th>\n      <td>268408</td>\n      <td>02-01-1970</td>\n      <td>M</td>\n      <td>4.0</td>\n    </tr>\n    <tr>\n      <th>1</th>\n      <td>269696</td>\n      <td>07-01-1970</td>\n      <td>F</td>\n      <td>8.0</td>\n    </tr>\n    <tr>\n      <th>2</th>\n      <td>268159</td>\n      <td>08-01-1970</td>\n      <td>F</td>\n      <td>8.0</td>\n    </tr>\n    <tr>\n      <th>3</th>\n      <td>270181</td>\n      <td>10-01-1970</td>\n      <td>F</td>\n      <td>2.0</td>\n    </tr>\n    <tr>\n      <th>4</th>\n      <td>268073</td>\n      <td>11-01-1970</td>\n      <td>M</td>\n      <td>1.0</td>\n    </tr>\n  </tbody>\n</table>\n</div>"
     },
     "metadata": {},
     "execution_count": 6
    }
   ],
   "source": [
    "customers = pd.read_csv('db\\customers.csv', index_col=0)\n",
    "customers.head()"
   ]
  },
  {
   "cell_type": "code",
   "execution_count": 19,
   "metadata": {},
   "outputs": [
    {
     "output_type": "execute_result",
     "data": {
      "text/plain": [
       "   transaction_id  cust_id   tran_date  prod_subcat_code  prod_cat_code  Qty  \\\n",
       "0     40303022895   272142  31-12-2016                 1              2    5   \n",
       "1     47557596721   273764  31-12-2016                 8              3   -1   \n",
       "2     28966519600   273899  31-12-2016                 5              3    1   \n",
       "3     18110335043   270491  31-12-2016                 4              2    1   \n",
       "4     35866122984   269792  31-12-2016                 1              2    1   \n",
       "\n",
       "   Rate      Tax  total_amt      Store_type  \n",
       "0   537  281.925   2966.925  Flagship store  \n",
       "1 -1037  108.885  -1145.885  Flagship store  \n",
       "2   308   32.340    340.340          e-Shop  \n",
       "3  1343  141.015   1484.015        TeleShop  \n",
       "4  1209  126.945   1335.945  Flagship store  "
      ],
      "text/html": "<div>\n<style scoped>\n    .dataframe tbody tr th:only-of-type {\n        vertical-align: middle;\n    }\n\n    .dataframe tbody tr th {\n        vertical-align: top;\n    }\n\n    .dataframe thead th {\n        text-align: right;\n    }\n</style>\n<table border=\"1\" class=\"dataframe\">\n  <thead>\n    <tr style=\"text-align: right;\">\n      <th></th>\n      <th>transaction_id</th>\n      <th>cust_id</th>\n      <th>tran_date</th>\n      <th>prod_subcat_code</th>\n      <th>prod_cat_code</th>\n      <th>Qty</th>\n      <th>Rate</th>\n      <th>Tax</th>\n      <th>total_amt</th>\n      <th>Store_type</th>\n    </tr>\n  </thead>\n  <tbody>\n    <tr>\n      <th>0</th>\n      <td>40303022895</td>\n      <td>272142</td>\n      <td>31-12-2016</td>\n      <td>1</td>\n      <td>2</td>\n      <td>5</td>\n      <td>537</td>\n      <td>281.925</td>\n      <td>2966.925</td>\n      <td>Flagship store</td>\n    </tr>\n    <tr>\n      <th>1</th>\n      <td>47557596721</td>\n      <td>273764</td>\n      <td>31-12-2016</td>\n      <td>8</td>\n      <td>3</td>\n      <td>-1</td>\n      <td>-1037</td>\n      <td>108.885</td>\n      <td>-1145.885</td>\n      <td>Flagship store</td>\n    </tr>\n    <tr>\n      <th>2</th>\n      <td>28966519600</td>\n      <td>273899</td>\n      <td>31-12-2016</td>\n      <td>5</td>\n      <td>3</td>\n      <td>1</td>\n      <td>308</td>\n      <td>32.340</td>\n      <td>340.340</td>\n      <td>e-Shop</td>\n    </tr>\n    <tr>\n      <th>3</th>\n      <td>18110335043</td>\n      <td>270491</td>\n      <td>31-12-2016</td>\n      <td>4</td>\n      <td>2</td>\n      <td>1</td>\n      <td>1343</td>\n      <td>141.015</td>\n      <td>1484.015</td>\n      <td>TeleShop</td>\n    </tr>\n    <tr>\n      <th>4</th>\n      <td>35866122984</td>\n      <td>269792</td>\n      <td>31-12-2016</td>\n      <td>1</td>\n      <td>2</td>\n      <td>1</td>\n      <td>1209</td>\n      <td>126.945</td>\n      <td>1335.945</td>\n      <td>Flagship store</td>\n    </tr>\n  </tbody>\n</table>\n</div>"
     },
     "metadata": {},
     "execution_count": 19
    }
   ],
   "source": [
    "tran_2016 = pd.read_csv(r'db\\transactions\\transactions-2016.csv', index_col=0).reset_index().drop(columns='index')\n",
    "tran_2016.head()"
   ]
  },
  {
   "cell_type": "code",
   "execution_count": 22,
   "metadata": {},
   "outputs": [
    {
     "output_type": "execute_result",
     "data": {
      "text/plain": [
       "transaction_id      6991\n",
       "cust_id             6991\n",
       "tran_date           6991\n",
       "prod_subcat_code    6991\n",
       "prod_cat_code       6991\n",
       "Qty                 6991\n",
       "Rate                6991\n",
       "Tax                 6991\n",
       "total_amt           6991\n",
       "Store_type          6991\n",
       "dtype: int64"
      ]
     },
     "metadata": {},
     "execution_count": 22
    }
   ],
   "source": [
    "tran_2016.count()"
   ]
  },
  {
   "cell_type": "code",
   "execution_count": 18,
   "metadata": {},
   "outputs": [
    {
     "output_type": "execute_result",
     "data": {
      "text/plain": [
       "   transaction_id  cust_id   tran_date  prod_subcat_code  prod_cat_code  Qty  \\\n",
       "0     26229626485   267624  31-12-2017                 1              1    5   \n",
       "1      7576355995   268250  31-12-2017                 4              1    5   \n",
       "2     31314199553   274511  31-12-2017                 4              4    3   \n",
       "3      3931451020   270386  31-12-2017                11              6    3   \n",
       "4     24878731193   272358  31-12-2017                 9              3    4   \n",
       "\n",
       "   Rate      Tax  total_amt      Store_type  \n",
       "0  1096  575.400   6055.400  Flagship store  \n",
       "1  1409  739.725   7784.725  Flagship store  \n",
       "2   398  125.370   1319.370          e-Shop  \n",
       "3   243   76.545    805.545          e-Shop  \n",
       "4   808  339.360   3571.360             MBR  "
      ],
      "text/html": "<div>\n<style scoped>\n    .dataframe tbody tr th:only-of-type {\n        vertical-align: middle;\n    }\n\n    .dataframe tbody tr th {\n        vertical-align: top;\n    }\n\n    .dataframe thead th {\n        text-align: right;\n    }\n</style>\n<table border=\"1\" class=\"dataframe\">\n  <thead>\n    <tr style=\"text-align: right;\">\n      <th></th>\n      <th>transaction_id</th>\n      <th>cust_id</th>\n      <th>tran_date</th>\n      <th>prod_subcat_code</th>\n      <th>prod_cat_code</th>\n      <th>Qty</th>\n      <th>Rate</th>\n      <th>Tax</th>\n      <th>total_amt</th>\n      <th>Store_type</th>\n    </tr>\n  </thead>\n  <tbody>\n    <tr>\n      <th>0</th>\n      <td>26229626485</td>\n      <td>267624</td>\n      <td>31-12-2017</td>\n      <td>1</td>\n      <td>1</td>\n      <td>5</td>\n      <td>1096</td>\n      <td>575.400</td>\n      <td>6055.400</td>\n      <td>Flagship store</td>\n    </tr>\n    <tr>\n      <th>1</th>\n      <td>7576355995</td>\n      <td>268250</td>\n      <td>31-12-2017</td>\n      <td>4</td>\n      <td>1</td>\n      <td>5</td>\n      <td>1409</td>\n      <td>739.725</td>\n      <td>7784.725</td>\n      <td>Flagship store</td>\n    </tr>\n    <tr>\n      <th>2</th>\n      <td>31314199553</td>\n      <td>274511</td>\n      <td>31-12-2017</td>\n      <td>4</td>\n      <td>4</td>\n      <td>3</td>\n      <td>398</td>\n      <td>125.370</td>\n      <td>1319.370</td>\n      <td>e-Shop</td>\n    </tr>\n    <tr>\n      <th>3</th>\n      <td>3931451020</td>\n      <td>270386</td>\n      <td>31-12-2017</td>\n      <td>11</td>\n      <td>6</td>\n      <td>3</td>\n      <td>243</td>\n      <td>76.545</td>\n      <td>805.545</td>\n      <td>e-Shop</td>\n    </tr>\n    <tr>\n      <th>4</th>\n      <td>24878731193</td>\n      <td>272358</td>\n      <td>31-12-2017</td>\n      <td>9</td>\n      <td>3</td>\n      <td>4</td>\n      <td>808</td>\n      <td>339.360</td>\n      <td>3571.360</td>\n      <td>MBR</td>\n    </tr>\n  </tbody>\n</table>\n</div>"
     },
     "metadata": {},
     "execution_count": 18
    }
   ],
   "source": [
    "tran_2017 = pd.read_csv(r'db\\transactions\\transactions-2017.csv', index_col=0).reset_index().drop(columns='index')\n",
    "tran_2017.head()"
   ]
  },
  {
   "cell_type": "code",
   "execution_count": 23,
   "metadata": {},
   "outputs": [
    {
     "output_type": "execute_result",
     "data": {
      "text/plain": [
       "transaction_id      7541\n",
       "cust_id             7541\n",
       "tran_date           7541\n",
       "prod_subcat_code    7541\n",
       "prod_cat_code       7541\n",
       "Qty                 7541\n",
       "Rate                7541\n",
       "Tax                 7541\n",
       "total_amt           7541\n",
       "Store_type          7541\n",
       "dtype: int64"
      ]
     },
     "metadata": {},
     "execution_count": 23
    }
   ],
   "source": [
    "tran_2017.count()"
   ]
  },
  {
   "cell_type": "code",
   "execution_count": 20,
   "metadata": {},
   "outputs": [
    {
     "output_type": "execute_result",
     "data": {
      "text/plain": [
       "   transaction_id  cust_id   tran_date  prod_subcat_code  prod_cat_code  Qty  \\\n",
       "0     58387181112   275068  31-12-2018                 8              3    5   \n",
       "1     21300411973   274568  31-12-2018                 2              6    1   \n",
       "2     25511948871   273541  31-12-2018                 3              1   -3   \n",
       "3     45524941068   268722  31-12-2018                10              5    5   \n",
       "4     26100869804   273836  31-12-2018                 9              3    3   \n",
       "\n",
       "   Rate      Tax  total_amt      Store_type  \n",
       "0   792  415.800   4375.800          e-Shop  \n",
       "1  1054  110.670   1164.670  Flagship store  \n",
       "2  -253   79.695   -838.695             MBR  \n",
       "3   124   65.100    685.100  Flagship store  \n",
       "4   843  265.545   2794.545          e-Shop  "
      ],
      "text/html": "<div>\n<style scoped>\n    .dataframe tbody tr th:only-of-type {\n        vertical-align: middle;\n    }\n\n    .dataframe tbody tr th {\n        vertical-align: top;\n    }\n\n    .dataframe thead th {\n        text-align: right;\n    }\n</style>\n<table border=\"1\" class=\"dataframe\">\n  <thead>\n    <tr style=\"text-align: right;\">\n      <th></th>\n      <th>transaction_id</th>\n      <th>cust_id</th>\n      <th>tran_date</th>\n      <th>prod_subcat_code</th>\n      <th>prod_cat_code</th>\n      <th>Qty</th>\n      <th>Rate</th>\n      <th>Tax</th>\n      <th>total_amt</th>\n      <th>Store_type</th>\n    </tr>\n  </thead>\n  <tbody>\n    <tr>\n      <th>0</th>\n      <td>58387181112</td>\n      <td>275068</td>\n      <td>31-12-2018</td>\n      <td>8</td>\n      <td>3</td>\n      <td>5</td>\n      <td>792</td>\n      <td>415.800</td>\n      <td>4375.800</td>\n      <td>e-Shop</td>\n    </tr>\n    <tr>\n      <th>1</th>\n      <td>21300411973</td>\n      <td>274568</td>\n      <td>31-12-2018</td>\n      <td>2</td>\n      <td>6</td>\n      <td>1</td>\n      <td>1054</td>\n      <td>110.670</td>\n      <td>1164.670</td>\n      <td>Flagship store</td>\n    </tr>\n    <tr>\n      <th>2</th>\n      <td>25511948871</td>\n      <td>273541</td>\n      <td>31-12-2018</td>\n      <td>3</td>\n      <td>1</td>\n      <td>-3</td>\n      <td>-253</td>\n      <td>79.695</td>\n      <td>-838.695</td>\n      <td>MBR</td>\n    </tr>\n    <tr>\n      <th>3</th>\n      <td>45524941068</td>\n      <td>268722</td>\n      <td>31-12-2018</td>\n      <td>10</td>\n      <td>5</td>\n      <td>5</td>\n      <td>124</td>\n      <td>65.100</td>\n      <td>685.100</td>\n      <td>Flagship store</td>\n    </tr>\n    <tr>\n      <th>4</th>\n      <td>26100869804</td>\n      <td>273836</td>\n      <td>31-12-2018</td>\n      <td>9</td>\n      <td>3</td>\n      <td>3</td>\n      <td>843</td>\n      <td>265.545</td>\n      <td>2794.545</td>\n      <td>e-Shop</td>\n    </tr>\n  </tbody>\n</table>\n</div>"
     },
     "metadata": {},
     "execution_count": 20
    }
   ],
   "source": [
    "tran_2018 = pd.read_csv(r'db\\transactions\\transactions-2018.csv', index_col=0).reset_index().drop(columns='index')\n",
    "tran_2018.head()"
   ]
  },
  {
   "cell_type": "code",
   "execution_count": 24,
   "metadata": {},
   "outputs": [
    {
     "output_type": "execute_result",
     "data": {
      "text/plain": [
       "transaction_id      7456\n",
       "cust_id             7456\n",
       "tran_date           7456\n",
       "prod_subcat_code    7456\n",
       "prod_cat_code       7456\n",
       "Qty                 7456\n",
       "Rate                7456\n",
       "Tax                 7456\n",
       "total_amt           7456\n",
       "Store_type          7456\n",
       "dtype: int64"
      ]
     },
     "metadata": {},
     "execution_count": 24
    }
   ],
   "source": [
    "tran_2018.count()"
   ]
  },
  {
   "cell_type": "code",
   "execution_count": 21,
   "metadata": {},
   "outputs": [
    {
     "output_type": "execute_result",
     "data": {
      "text/plain": [
       "   transaction_id  cust_id   tran_date  prod_subcat_code  prod_cat_code  Qty  \\\n",
       "0     80712190438   270351  28-02-2019                 1              1   -5   \n",
       "1     29258453508   270384  27-02-2019                 5              3   -5   \n",
       "2     51750724947   273420  24-02-2019                 6              5   -2   \n",
       "3     93274880719   271509  24-02-2019                11              6   -3   \n",
       "4     51750724947   273420  23-02-2019                 6              5   -2   \n",
       "\n",
       "   Rate      Tax  total_amt Store_type  \n",
       "0  -772  405.300  -4265.300     e-Shop  \n",
       "1 -1497  785.925  -8270.925     e-Shop  \n",
       "2  -791  166.110  -1748.110   TeleShop  \n",
       "3 -1363  429.345  -4518.345     e-Shop  \n",
       "4  -791  166.110  -1748.110   TeleShop  "
      ],
      "text/html": "<div>\n<style scoped>\n    .dataframe tbody tr th:only-of-type {\n        vertical-align: middle;\n    }\n\n    .dataframe tbody tr th {\n        vertical-align: top;\n    }\n\n    .dataframe thead th {\n        text-align: right;\n    }\n</style>\n<table border=\"1\" class=\"dataframe\">\n  <thead>\n    <tr style=\"text-align: right;\">\n      <th></th>\n      <th>transaction_id</th>\n      <th>cust_id</th>\n      <th>tran_date</th>\n      <th>prod_subcat_code</th>\n      <th>prod_cat_code</th>\n      <th>Qty</th>\n      <th>Rate</th>\n      <th>Tax</th>\n      <th>total_amt</th>\n      <th>Store_type</th>\n    </tr>\n  </thead>\n  <tbody>\n    <tr>\n      <th>0</th>\n      <td>80712190438</td>\n      <td>270351</td>\n      <td>28-02-2019</td>\n      <td>1</td>\n      <td>1</td>\n      <td>-5</td>\n      <td>-772</td>\n      <td>405.300</td>\n      <td>-4265.300</td>\n      <td>e-Shop</td>\n    </tr>\n    <tr>\n      <th>1</th>\n      <td>29258453508</td>\n      <td>270384</td>\n      <td>27-02-2019</td>\n      <td>5</td>\n      <td>3</td>\n      <td>-5</td>\n      <td>-1497</td>\n      <td>785.925</td>\n      <td>-8270.925</td>\n      <td>e-Shop</td>\n    </tr>\n    <tr>\n      <th>2</th>\n      <td>51750724947</td>\n      <td>273420</td>\n      <td>24-02-2019</td>\n      <td>6</td>\n      <td>5</td>\n      <td>-2</td>\n      <td>-791</td>\n      <td>166.110</td>\n      <td>-1748.110</td>\n      <td>TeleShop</td>\n    </tr>\n    <tr>\n      <th>3</th>\n      <td>93274880719</td>\n      <td>271509</td>\n      <td>24-02-2019</td>\n      <td>11</td>\n      <td>6</td>\n      <td>-3</td>\n      <td>-1363</td>\n      <td>429.345</td>\n      <td>-4518.345</td>\n      <td>e-Shop</td>\n    </tr>\n    <tr>\n      <th>4</th>\n      <td>51750724947</td>\n      <td>273420</td>\n      <td>23-02-2019</td>\n      <td>6</td>\n      <td>5</td>\n      <td>-2</td>\n      <td>-791</td>\n      <td>166.110</td>\n      <td>-1748.110</td>\n      <td>TeleShop</td>\n    </tr>\n  </tbody>\n</table>\n</div>"
     },
     "metadata": {},
     "execution_count": 21
    }
   ],
   "source": [
    "tran_2019 = pd.read_csv(r'db\\transactions\\transactions-2019.csv', index_col=0).reset_index().drop(columns='index')\n",
    "tran_2019.head()"
   ]
  },
  {
   "cell_type": "code",
   "execution_count": 25,
   "metadata": {},
   "outputs": [
    {
     "output_type": "execute_result",
     "data": {
      "text/plain": [
       "transaction_id      1065\n",
       "cust_id             1065\n",
       "tran_date           1065\n",
       "prod_subcat_code    1065\n",
       "prod_cat_code       1065\n",
       "Qty                 1065\n",
       "Rate                1065\n",
       "Tax                 1065\n",
       "total_amt           1065\n",
       "Store_type          1065\n",
       "dtype: int64"
      ]
     },
     "metadata": {},
     "execution_count": 25
    }
   ],
   "source": [
    "tran_2019.count()"
   ]
  },
  {
   "cell_type": "code",
   "execution_count": 28,
   "metadata": {},
   "outputs": [
    {
     "output_type": "error",
     "ename": "NameError",
     "evalue": "name 'transactions' is not defined",
     "traceback": [
      "\u001b[1;31m---------------------------------------------------------------------------\u001b[0m",
      "\u001b[1;31mNameError\u001b[0m                                 Traceback (most recent call last)",
      "\u001b[1;32m<ipython-input-28-20a4469f53eb>\u001b[0m in \u001b[0;36m<module>\u001b[1;34m\u001b[0m\n\u001b[0;32m     23\u001b[0m         \u001b[1;32mreturn\u001b[0m \u001b[0mtransactions\u001b[0m\u001b[1;33m\u001b[0m\u001b[1;33m\u001b[0m\u001b[0m\n\u001b[0;32m     24\u001b[0m \u001b[1;33m\u001b[0m\u001b[0m\n\u001b[1;32m---> 25\u001b[1;33m \u001b[0mtransactions\u001b[0m\u001b[1;33m.\u001b[0m\u001b[0mcount\u001b[0m\u001b[1;33m(\u001b[0m\u001b[1;33m)\u001b[0m\u001b[1;33m\u001b[0m\u001b[1;33m\u001b[0m\u001b[0m\n\u001b[0m",
      "\u001b[1;31mNameError\u001b[0m: name 'transactions' is not defined"
     ]
    }
   ],
   "source": [
    "class db:\n",
    "    def __init__(self):\n",
    "        self.transactions = db.transation_init()\n",
    "        self.cc = pd.read_csv(r'db\\country_codes.csv',index_col=0)\n",
    "        self.customers = pd.read_csv(r'db\\customers.csv',index_col=0)\n",
    "        self.prod_info = pd.read_csv(r'db\\prod_cat_info.csv')\n",
    "\n",
    "    @staticmethod\n",
    "    def transation_init():\n",
    "        transactions = pd.DataFrame()\n",
    "        src = r'db\\transactions'\n",
    "        for filename in os.listdir(src):\n",
    "            transactions = transactions.append(pd.read_csv(os.path.join(src,filename),index_col=0))\n",
    "\n",
    "        def convert_dates(x):\n",
    "            try:\n",
    "                return dt.datetime.strptime(x,'%d-%m-%Y')\n",
    "            except:\n",
    "                return dt.datetime.strptime(x,'%d/%m/%Y')\n",
    "\n",
    "        transactions['tran_date'] = transactions['tran_date'].apply(lambda x: convert_dates(x))\n",
    "\n",
    "        return transactions\n",
    "\n",
    "transactions.count()"
   ]
  },
  {
   "cell_type": "code",
   "execution_count": 29,
   "metadata": {},
   "outputs": [
    {
     "output_type": "execute_result",
     "data": {
      "text/plain": [
       "transaction_id      23053\n",
       "cust_id             23053\n",
       "tran_date           23053\n",
       "prod_subcat_code    23053\n",
       "prod_cat_code       23053\n",
       "Qty                 23053\n",
       "Rate                23053\n",
       "Tax                 23053\n",
       "total_amt           23053\n",
       "Store_type          23053\n",
       "dtype: int64"
      ]
     },
     "metadata": {},
     "execution_count": 29
    }
   ],
   "source": [
    "transactions = pd.concat([tran_2016, tran_2017, tran_2018, tran_2019], axis=0)\n",
    "transactions.count()"
   ]
  },
  {
   "cell_type": "code",
   "execution_count": 30,
   "metadata": {},
   "outputs": [
    {
     "output_type": "execute_result",
     "data": {
      "text/plain": [
       "   transaction_id  cust_id   tran_date  prod_subcat_code  prod_cat_code  Qty  \\\n",
       "0     40303022895   272142  31-12-2016                 1              2    5   \n",
       "1     47557596721   273764  31-12-2016                 8              3   -1   \n",
       "2     28966519600   273899  31-12-2016                 5              3    1   \n",
       "3     18110335043   270491  31-12-2016                 4              2    1   \n",
       "4     35866122984   269792  31-12-2016                 1              2    1   \n",
       "\n",
       "   Rate      Tax  total_amt      Store_type  \n",
       "0   537  281.925   2966.925  Flagship store  \n",
       "1 -1037  108.885  -1145.885  Flagship store  \n",
       "2   308   32.340    340.340          e-Shop  \n",
       "3  1343  141.015   1484.015        TeleShop  \n",
       "4  1209  126.945   1335.945  Flagship store  "
      ],
      "text/html": "<div>\n<style scoped>\n    .dataframe tbody tr th:only-of-type {\n        vertical-align: middle;\n    }\n\n    .dataframe tbody tr th {\n        vertical-align: top;\n    }\n\n    .dataframe thead th {\n        text-align: right;\n    }\n</style>\n<table border=\"1\" class=\"dataframe\">\n  <thead>\n    <tr style=\"text-align: right;\">\n      <th></th>\n      <th>transaction_id</th>\n      <th>cust_id</th>\n      <th>tran_date</th>\n      <th>prod_subcat_code</th>\n      <th>prod_cat_code</th>\n      <th>Qty</th>\n      <th>Rate</th>\n      <th>Tax</th>\n      <th>total_amt</th>\n      <th>Store_type</th>\n    </tr>\n  </thead>\n  <tbody>\n    <tr>\n      <th>0</th>\n      <td>40303022895</td>\n      <td>272142</td>\n      <td>31-12-2016</td>\n      <td>1</td>\n      <td>2</td>\n      <td>5</td>\n      <td>537</td>\n      <td>281.925</td>\n      <td>2966.925</td>\n      <td>Flagship store</td>\n    </tr>\n    <tr>\n      <th>1</th>\n      <td>47557596721</td>\n      <td>273764</td>\n      <td>31-12-2016</td>\n      <td>8</td>\n      <td>3</td>\n      <td>-1</td>\n      <td>-1037</td>\n      <td>108.885</td>\n      <td>-1145.885</td>\n      <td>Flagship store</td>\n    </tr>\n    <tr>\n      <th>2</th>\n      <td>28966519600</td>\n      <td>273899</td>\n      <td>31-12-2016</td>\n      <td>5</td>\n      <td>3</td>\n      <td>1</td>\n      <td>308</td>\n      <td>32.340</td>\n      <td>340.340</td>\n      <td>e-Shop</td>\n    </tr>\n    <tr>\n      <th>3</th>\n      <td>18110335043</td>\n      <td>270491</td>\n      <td>31-12-2016</td>\n      <td>4</td>\n      <td>2</td>\n      <td>1</td>\n      <td>1343</td>\n      <td>141.015</td>\n      <td>1484.015</td>\n      <td>TeleShop</td>\n    </tr>\n    <tr>\n      <th>4</th>\n      <td>35866122984</td>\n      <td>269792</td>\n      <td>31-12-2016</td>\n      <td>1</td>\n      <td>2</td>\n      <td>1</td>\n      <td>1209</td>\n      <td>126.945</td>\n      <td>1335.945</td>\n      <td>Flagship store</td>\n    </tr>\n  </tbody>\n</table>\n</div>"
     },
     "metadata": {},
     "execution_count": 30
    }
   ],
   "source": [
    "transactions.head()"
   ]
  },
  {
   "cell_type": "code",
   "execution_count": 33,
   "metadata": {},
   "outputs": [
    {
     "output_type": "execute_result",
     "data": {
      "text/plain": [
       "   transaction_id  cust_id  tran_date  prod_subcat_code  prod_cat_code  Qty  \\\n",
       "0     40303022895   272142 2016-12-31                 1              2    5   \n",
       "1     47557596721   273764 2016-12-31                 8              3   -1   \n",
       "2     28966519600   273899 2016-12-31                 5              3    1   \n",
       "3     18110335043   270491 2016-12-31                 4              2    1   \n",
       "4     35866122984   269792 2016-12-31                 1              2    1   \n",
       "\n",
       "   Rate      Tax  total_amt      Store_type day_of_week  \n",
       "0   537  281.925   2966.925  Flagship store    Saturday  \n",
       "1 -1037  108.885  -1145.885  Flagship store    Saturday  \n",
       "2   308   32.340    340.340          e-Shop    Saturday  \n",
       "3  1343  141.015   1484.015        TeleShop    Saturday  \n",
       "4  1209  126.945   1335.945  Flagship store    Saturday  "
      ],
      "text/html": "<div>\n<style scoped>\n    .dataframe tbody tr th:only-of-type {\n        vertical-align: middle;\n    }\n\n    .dataframe tbody tr th {\n        vertical-align: top;\n    }\n\n    .dataframe thead th {\n        text-align: right;\n    }\n</style>\n<table border=\"1\" class=\"dataframe\">\n  <thead>\n    <tr style=\"text-align: right;\">\n      <th></th>\n      <th>transaction_id</th>\n      <th>cust_id</th>\n      <th>tran_date</th>\n      <th>prod_subcat_code</th>\n      <th>prod_cat_code</th>\n      <th>Qty</th>\n      <th>Rate</th>\n      <th>Tax</th>\n      <th>total_amt</th>\n      <th>Store_type</th>\n      <th>day_of_week</th>\n    </tr>\n  </thead>\n  <tbody>\n    <tr>\n      <th>0</th>\n      <td>40303022895</td>\n      <td>272142</td>\n      <td>2016-12-31</td>\n      <td>1</td>\n      <td>2</td>\n      <td>5</td>\n      <td>537</td>\n      <td>281.925</td>\n      <td>2966.925</td>\n      <td>Flagship store</td>\n      <td>Saturday</td>\n    </tr>\n    <tr>\n      <th>1</th>\n      <td>47557596721</td>\n      <td>273764</td>\n      <td>2016-12-31</td>\n      <td>8</td>\n      <td>3</td>\n      <td>-1</td>\n      <td>-1037</td>\n      <td>108.885</td>\n      <td>-1145.885</td>\n      <td>Flagship store</td>\n      <td>Saturday</td>\n    </tr>\n    <tr>\n      <th>2</th>\n      <td>28966519600</td>\n      <td>273899</td>\n      <td>2016-12-31</td>\n      <td>5</td>\n      <td>3</td>\n      <td>1</td>\n      <td>308</td>\n      <td>32.340</td>\n      <td>340.340</td>\n      <td>e-Shop</td>\n      <td>Saturday</td>\n    </tr>\n    <tr>\n      <th>3</th>\n      <td>18110335043</td>\n      <td>270491</td>\n      <td>2016-12-31</td>\n      <td>4</td>\n      <td>2</td>\n      <td>1</td>\n      <td>1343</td>\n      <td>141.015</td>\n      <td>1484.015</td>\n      <td>TeleShop</td>\n      <td>Saturday</td>\n    </tr>\n    <tr>\n      <th>4</th>\n      <td>35866122984</td>\n      <td>269792</td>\n      <td>2016-12-31</td>\n      <td>1</td>\n      <td>2</td>\n      <td>1</td>\n      <td>1209</td>\n      <td>126.945</td>\n      <td>1335.945</td>\n      <td>Flagship store</td>\n      <td>Saturday</td>\n    </tr>\n  </tbody>\n</table>\n</div>"
     },
     "metadata": {},
     "execution_count": 33
    }
   ],
   "source": [
    "import datetime as dt\n",
    "transactions['tran_date'] = pd.to_datetime(transactions['tran_date'])\n",
    "transactions['day_of_week'] = transactions['tran_date'].dt.day_name()\n",
    "transactions.head()"
   ]
  },
  {
   "cell_type": "code",
   "execution_count": 35,
   "metadata": {},
   "outputs": [
    {
     "output_type": "execute_result",
     "data": {
      "text/plain": [
       "day_of_week  Store_type    \n",
       "Friday       Flagship store    1500887.24\n",
       "             MBR               1608849.06\n",
       "             TeleShop          1484533.24\n",
       "             e-Shop            3112438.03\n",
       "Monday       Flagship store    1494998.70\n",
       "             MBR               1658793.95\n",
       "             TeleShop          1578073.70\n",
       "             e-Shop            3170279.26\n",
       "Saturday     Flagship store    1507173.59\n",
       "             MBR               1621743.30\n",
       "             TeleShop          1430004.81\n",
       "             e-Shop            3365035.51\n",
       "Sunday       Flagship store    1531317.84\n",
       "             MBR               1529706.75\n",
       "             TeleShop          1594001.18\n",
       "             e-Shop            3214161.01\n",
       "Thursday     Flagship store    1624096.95\n",
       "             MBR               1449457.23\n",
       "             TeleShop          1520871.17\n",
       "             e-Shop            3023271.16\n",
       "Tuesday      Flagship store    1711419.58\n",
       "             MBR               1572086.81\n",
       "             TeleShop          1409482.75\n",
       "             e-Shop            3160432.60\n",
       "Wednesday    Flagship store    1536725.71\n",
       "             MBR               1467899.68\n",
       "             TeleShop          1436151.93\n",
       "             e-Shop            3139992.31\n",
       "Name: total_amt, dtype: float64"
      ]
     },
     "metadata": {},
     "execution_count": 35
    }
   ],
   "source": [
    "grouped = transactions[transactions['total_amt']>0].groupby(['day_of_week','Store_type'])['total_amt'].sum().round(2)\n",
    "grouped\n",
    "\n"
   ]
  },
  {
   "cell_type": "code",
   "execution_count": null,
   "metadata": {},
   "outputs": [],
   "source": [
    "\n"
   ]
  }
 ]
}